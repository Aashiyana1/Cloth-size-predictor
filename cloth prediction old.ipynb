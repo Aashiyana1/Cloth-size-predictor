{
  "nbformat": 4,
  "nbformat_minor": 0,
  "metadata": {
    "colab": {
      "name": "clothprediction.ipynb",
      "provenance": [],
      "collapsed_sections": []
    },
    "kernelspec": {
      "name": "python3",
      "display_name": "Python 3"
    },
    "language_info": {
      "name": "python"
    }
  },
  "cells": [
    {
      "cell_type": "markdown",
      "source": [
        "Import Necessary Libraries"
      ],
      "metadata": {
        "id": "ejuY3wy42aUc"
      }
    },
    {
      "cell_type": "code",
      "source": [
        "# Data Manipulation and Linear Algebra\n",
        "import pandas as pd\n",
        "import numpy as np\n",
        "\n",
        "# Plots\n",
        "import seaborn as sns\n",
        "sns.set_style(\"darkgrid\")\n",
        "import matplotlib.pyplot as plt\n",
        "\n",
        "# Machine Learning\n",
        "from sklearn.model_selection import StratifiedShuffleSplit, cross_val_score, cross_val_predict\n",
        "from sklearn.metrics import accuracy_score, confusion_matrix, precision_recall_curve\n",
        "from sklearn.preprocessing import StandardScaler\n",
        "\n",
        "from sklearn import linear_model, neighbors, ensemble, tree\n",
        "\n",
        "#ignore warning messages \n",
        "import warnings\n",
        "warnings.filterwarnings('ignore')"
      ],
      "metadata": {
        "id": "i57qHyyp2a3d"
      },
      "execution_count": null,
      "outputs": []
    },
    {
      "cell_type": "markdown",
      "source": [
        "Loading Data"
      ],
      "metadata": {
        "id": "1hpUfZr96C5C"
      }
    },
    {
      "cell_type": "code",
      "source": [
        "data = pd.read_csv(\"final_test.csv\")\n",
        "data"
      ],
      "metadata": {
        "colab": {
          "base_uri": "https://localhost:8080/",
          "height": 423
        },
        "id": "IwBULPkd6DTa",
        "outputId": "9d77bf4e-fd86-4845-bd8a-6196f25988de"
      },
      "execution_count": null,
      "outputs": [
        {
          "output_type": "execute_result",
          "data": {
            "text/plain": [
              "        weight   age  height size\n",
              "0           62  28.0  172.72   XL\n",
              "1           59  36.0  167.64    L\n",
              "2           61  34.0  165.10    M\n",
              "3           65  27.0  175.26    L\n",
              "4           62  45.0  172.72    M\n",
              "...        ...   ...     ...  ...\n",
              "119729      63  42.0  175.26    M\n",
              "119730      45  29.0  154.94    S\n",
              "119731      61  31.0  172.72    M\n",
              "119732      74  31.0  167.64   XL\n",
              "119733      70  30.0  167.64   XL\n",
              "\n",
              "[119734 rows x 4 columns]"
            ],
            "text/html": [
              "\n",
              "  <div id=\"df-ee36ee7f-d6c2-4feb-aadf-67f0d88c95ec\">\n",
              "    <div class=\"colab-df-container\">\n",
              "      <div>\n",
              "<style scoped>\n",
              "    .dataframe tbody tr th:only-of-type {\n",
              "        vertical-align: middle;\n",
              "    }\n",
              "\n",
              "    .dataframe tbody tr th {\n",
              "        vertical-align: top;\n",
              "    }\n",
              "\n",
              "    .dataframe thead th {\n",
              "        text-align: right;\n",
              "    }\n",
              "</style>\n",
              "<table border=\"1\" class=\"dataframe\">\n",
              "  <thead>\n",
              "    <tr style=\"text-align: right;\">\n",
              "      <th></th>\n",
              "      <th>weight</th>\n",
              "      <th>age</th>\n",
              "      <th>height</th>\n",
              "      <th>size</th>\n",
              "    </tr>\n",
              "  </thead>\n",
              "  <tbody>\n",
              "    <tr>\n",
              "      <th>0</th>\n",
              "      <td>62</td>\n",
              "      <td>28.0</td>\n",
              "      <td>172.72</td>\n",
              "      <td>XL</td>\n",
              "    </tr>\n",
              "    <tr>\n",
              "      <th>1</th>\n",
              "      <td>59</td>\n",
              "      <td>36.0</td>\n",
              "      <td>167.64</td>\n",
              "      <td>L</td>\n",
              "    </tr>\n",
              "    <tr>\n",
              "      <th>2</th>\n",
              "      <td>61</td>\n",
              "      <td>34.0</td>\n",
              "      <td>165.10</td>\n",
              "      <td>M</td>\n",
              "    </tr>\n",
              "    <tr>\n",
              "      <th>3</th>\n",
              "      <td>65</td>\n",
              "      <td>27.0</td>\n",
              "      <td>175.26</td>\n",
              "      <td>L</td>\n",
              "    </tr>\n",
              "    <tr>\n",
              "      <th>4</th>\n",
              "      <td>62</td>\n",
              "      <td>45.0</td>\n",
              "      <td>172.72</td>\n",
              "      <td>M</td>\n",
              "    </tr>\n",
              "    <tr>\n",
              "      <th>...</th>\n",
              "      <td>...</td>\n",
              "      <td>...</td>\n",
              "      <td>...</td>\n",
              "      <td>...</td>\n",
              "    </tr>\n",
              "    <tr>\n",
              "      <th>119729</th>\n",
              "      <td>63</td>\n",
              "      <td>42.0</td>\n",
              "      <td>175.26</td>\n",
              "      <td>M</td>\n",
              "    </tr>\n",
              "    <tr>\n",
              "      <th>119730</th>\n",
              "      <td>45</td>\n",
              "      <td>29.0</td>\n",
              "      <td>154.94</td>\n",
              "      <td>S</td>\n",
              "    </tr>\n",
              "    <tr>\n",
              "      <th>119731</th>\n",
              "      <td>61</td>\n",
              "      <td>31.0</td>\n",
              "      <td>172.72</td>\n",
              "      <td>M</td>\n",
              "    </tr>\n",
              "    <tr>\n",
              "      <th>119732</th>\n",
              "      <td>74</td>\n",
              "      <td>31.0</td>\n",
              "      <td>167.64</td>\n",
              "      <td>XL</td>\n",
              "    </tr>\n",
              "    <tr>\n",
              "      <th>119733</th>\n",
              "      <td>70</td>\n",
              "      <td>30.0</td>\n",
              "      <td>167.64</td>\n",
              "      <td>XL</td>\n",
              "    </tr>\n",
              "  </tbody>\n",
              "</table>\n",
              "<p>119734 rows × 4 columns</p>\n",
              "</div>\n",
              "      <button class=\"colab-df-convert\" onclick=\"convertToInteractive('df-ee36ee7f-d6c2-4feb-aadf-67f0d88c95ec')\"\n",
              "              title=\"Convert this dataframe to an interactive table.\"\n",
              "              style=\"display:none;\">\n",
              "        \n",
              "  <svg xmlns=\"http://www.w3.org/2000/svg\" height=\"24px\"viewBox=\"0 0 24 24\"\n",
              "       width=\"24px\">\n",
              "    <path d=\"M0 0h24v24H0V0z\" fill=\"none\"/>\n",
              "    <path d=\"M18.56 5.44l.94 2.06.94-2.06 2.06-.94-2.06-.94-.94-2.06-.94 2.06-2.06.94zm-11 1L8.5 8.5l.94-2.06 2.06-.94-2.06-.94L8.5 2.5l-.94 2.06-2.06.94zm10 10l.94 2.06.94-2.06 2.06-.94-2.06-.94-.94-2.06-.94 2.06-2.06.94z\"/><path d=\"M17.41 7.96l-1.37-1.37c-.4-.4-.92-.59-1.43-.59-.52 0-1.04.2-1.43.59L10.3 9.45l-7.72 7.72c-.78.78-.78 2.05 0 2.83L4 21.41c.39.39.9.59 1.41.59.51 0 1.02-.2 1.41-.59l7.78-7.78 2.81-2.81c.8-.78.8-2.07 0-2.86zM5.41 20L4 18.59l7.72-7.72 1.47 1.35L5.41 20z\"/>\n",
              "  </svg>\n",
              "      </button>\n",
              "      \n",
              "  <style>\n",
              "    .colab-df-container {\n",
              "      display:flex;\n",
              "      flex-wrap:wrap;\n",
              "      gap: 12px;\n",
              "    }\n",
              "\n",
              "    .colab-df-convert {\n",
              "      background-color: #E8F0FE;\n",
              "      border: none;\n",
              "      border-radius: 50%;\n",
              "      cursor: pointer;\n",
              "      display: none;\n",
              "      fill: #1967D2;\n",
              "      height: 32px;\n",
              "      padding: 0 0 0 0;\n",
              "      width: 32px;\n",
              "    }\n",
              "\n",
              "    .colab-df-convert:hover {\n",
              "      background-color: #E2EBFA;\n",
              "      box-shadow: 0px 1px 2px rgba(60, 64, 67, 0.3), 0px 1px 3px 1px rgba(60, 64, 67, 0.15);\n",
              "      fill: #174EA6;\n",
              "    }\n",
              "\n",
              "    [theme=dark] .colab-df-convert {\n",
              "      background-color: #3B4455;\n",
              "      fill: #D2E3FC;\n",
              "    }\n",
              "\n",
              "    [theme=dark] .colab-df-convert:hover {\n",
              "      background-color: #434B5C;\n",
              "      box-shadow: 0px 1px 3px 1px rgba(0, 0, 0, 0.15);\n",
              "      filter: drop-shadow(0px 1px 2px rgba(0, 0, 0, 0.3));\n",
              "      fill: #FFFFFF;\n",
              "    }\n",
              "  </style>\n",
              "\n",
              "      <script>\n",
              "        const buttonEl =\n",
              "          document.querySelector('#df-ee36ee7f-d6c2-4feb-aadf-67f0d88c95ec button.colab-df-convert');\n",
              "        buttonEl.style.display =\n",
              "          google.colab.kernel.accessAllowed ? 'block' : 'none';\n",
              "\n",
              "        async function convertToInteractive(key) {\n",
              "          const element = document.querySelector('#df-ee36ee7f-d6c2-4feb-aadf-67f0d88c95ec');\n",
              "          const dataTable =\n",
              "            await google.colab.kernel.invokeFunction('convertToInteractive',\n",
              "                                                     [key], {});\n",
              "          if (!dataTable) return;\n",
              "\n",
              "          const docLinkHtml = 'Like what you see? Visit the ' +\n",
              "            '<a target=\"_blank\" href=https://colab.research.google.com/notebooks/data_table.ipynb>data table notebook</a>'\n",
              "            + ' to learn more about interactive tables.';\n",
              "          element.innerHTML = '';\n",
              "          dataTable['output_type'] = 'display_data';\n",
              "          await google.colab.output.renderOutput(dataTable, element);\n",
              "          const docLink = document.createElement('div');\n",
              "          docLink.innerHTML = docLinkHtml;\n",
              "          element.appendChild(docLink);\n",
              "        }\n",
              "      </script>\n",
              "    </div>\n",
              "  </div>\n",
              "  "
            ]
          },
          "metadata": {},
          "execution_count": 26
        }
      ]
    },
    {
      "cell_type": "markdown",
      "source": [
        "Preprocessing"
      ],
      "metadata": {
        "id": "sFafBWjl6F6x"
      }
    },
    {
      "cell_type": "markdown",
      "source": [
        "Checking for Null values"
      ],
      "metadata": {
        "id": "EUobpMGC6GU6"
      }
    },
    {
      "cell_type": "code",
      "source": [
        "data.isnull().sum()"
      ],
      "metadata": {
        "colab": {
          "base_uri": "https://localhost:8080/"
        },
        "id": "FhqDlanj6Hnh",
        "outputId": "bce2ee52-c793-4da4-8f8d-cddc989ddbea"
      },
      "execution_count": null,
      "outputs": [
        {
          "output_type": "execute_result",
          "data": {
            "text/plain": [
              "weight      0\n",
              "age       257\n",
              "height    330\n",
              "size        0\n",
              "dtype: int64"
            ]
          },
          "metadata": {},
          "execution_count": 27
        }
      ]
    },
    {
      "cell_type": "code",
      "source": [
        "data[[\"size\"]].value_counts()"
      ],
      "metadata": {
        "colab": {
          "base_uri": "https://localhost:8080/"
        },
        "id": "U6CTaAgc6J7T",
        "outputId": "26d71565-52cf-4349-e7c2-771fc0daa20c"
      },
      "execution_count": null,
      "outputs": [
        {
          "output_type": "execute_result",
          "data": {
            "text/plain": [
              "size\n",
              "M       29712\n",
              "S       21924\n",
              "XXXL    21359\n",
              "XL      19119\n",
              "L       17587\n",
              "XXS      9964\n",
              "XXL        69\n",
              "dtype: int64"
            ]
          },
          "metadata": {},
          "execution_count": 28
        }
      ]
    },
    {
      "cell_type": "code",
      "source": [
        "plt.figure(figsize=(10, 6), dpi=80)\n",
        "sns.countplot(y=data[\"size\"])\n",
        "plt.show()"
      ],
      "metadata": {
        "colab": {
          "base_uri": "https://localhost:8080/",
          "height": 427
        },
        "id": "nYMVH07F6LQp",
        "outputId": "5ea01db4-7811-4bf7-871a-13566fe6c7fc"
      },
      "execution_count": null,
      "outputs": [
        {
          "output_type": "display_data",
          "data": {
            "text/plain": [
              "<Figure size 800x480 with 1 Axes>"
            ],
            "image/png": "[encoded data removed]"
          },
          "metadata": {}
        }
      ]
    },
    {
      "cell_type": "code",
      "source": [
        "data.describe()"
      ],
      "metadata": {
        "colab": {
          "base_uri": "https://localhost:8080/",
          "height": 300
        },
        "id": "2Abr31O36Ms2",
        "outputId": "b4db422e-1144-4c01-f563-80ce738b4dcf"
      },
      "execution_count": null,
      "outputs": [
        {
          "output_type": "execute_result",
          "data": {
            "text/plain": [
              "              weight            age         height\n",
              "count  119734.000000  119477.000000  119404.000000\n",
              "mean       61.756811      34.027311     165.805794\n",
              "std         9.944863       8.149447       6.737651\n",
              "min        22.000000       0.000000     137.160000\n",
              "25%        55.000000      29.000000     160.020000\n",
              "50%        61.000000      32.000000     165.100000\n",
              "75%        67.000000      37.000000     170.180000\n",
              "max       136.000000     117.000000     193.040000"
            ],
            "text/html": [
              "\n",
              "  <div id=\"df-649b7483-3948-4d19-beae-9e2da16b2b41\">\n",
              "    <div class=\"colab-df-container\">\n",
              "      <div>\n",
              "<style scoped>\n",
              "    .dataframe tbody tr th:only-of-type {\n",
              "        vertical-align: middle;\n",
              "    }\n",
              "\n",
              "    .dataframe tbody tr th {\n",
              "        vertical-align: top;\n",
              "    }\n",
              "\n",
              "    .dataframe thead th {\n",
              "        text-align: right;\n",
              "    }\n",
              "</style>\n",
              "<table border=\"1\" class=\"dataframe\">\n",
              "  <thead>\n",
              "    <tr style=\"text-align: right;\">\n",
              "      <th></th>\n",
              "      <th>weight</th>\n",
              "      <th>age</th>\n",
              "      <th>height</th>\n",
              "    </tr>\n",
              "  </thead>\n",
              "  <tbody>\n",
              "    <tr>\n",
              "      <th>count</th>\n",
              "      <td>119734.000000</td>\n",
              "      <td>119477.000000</td>\n",
              "      <td>119404.000000</td>\n",
              "    </tr>\n",
              "    <tr>\n",
              "      <th>mean</th>\n",
              "      <td>61.756811</td>\n",
              "      <td>34.027311</td>\n",
              "      <td>165.805794</td>\n",
              "    </tr>\n",
              "    <tr>\n",
              "      <th>std</th>\n",
              "      <td>9.944863</td>\n",
              "      <td>8.149447</td>\n",
              "      <td>6.737651</td>\n",
              "    </tr>\n",
              "    <tr>\n",
              "      <th>min</th>\n",
              "      <td>22.000000</td>\n",
              "      <td>0.000000</td>\n",
              "      <td>137.160000</td>\n",
              "    </tr>\n",
              "    <tr>\n",
              "      <th>25%</th>\n",
              "      <td>55.000000</td>\n",
              "      <td>29.000000</td>\n",
              "      <td>160.020000</td>\n",
              "    </tr>\n",
              "    <tr>\n",
              "      <th>50%</th>\n",
              "      <td>61.000000</td>\n",
              "      <td>32.000000</td>\n",
              "      <td>165.100000</td>\n",
              "    </tr>\n",
              "    <tr>\n",
              "      <th>75%</th>\n",
              "      <td>67.000000</td>\n",
              "      <td>37.000000</td>\n",
              "      <td>170.180000</td>\n",
              "    </tr>\n",
              "    <tr>\n",
              "      <th>max</th>\n",
              "      <td>136.000000</td>\n",
              "      <td>117.000000</td>\n",
              "      <td>193.040000</td>\n",
              "    </tr>\n",
              "  </tbody>\n",
              "</table>\n",
              "</div>\n",
              "      <button class=\"colab-df-convert\" onclick=\"convertToInteractive('df-649b7483-3948-4d19-beae-9e2da16b2b41')\"\n",
              "              title=\"Convert this dataframe to an interactive table.\"\n",
              "              style=\"display:none;\">\n",
              "        \n",
              "  <svg xmlns=\"http://www.w3.org/2000/svg\" height=\"24px\"viewBox=\"0 0 24 24\"\n",
              "       width=\"24px\">\n",
              "    <path d=\"M0 0h24v24H0V0z\" fill=\"none\"/>\n",
              "    <path d=\"M18.56 5.44l.94 2.06.94-2.06 2.06-.94-2.06-.94-.94-2.06-.94 2.06-2.06.94zm-11 1L8.5 8.5l.94-2.06 2.06-.94-2.06-.94L8.5 2.5l-.94 2.06-2.06.94zm10 10l.94 2.06.94-2.06 2.06-.94-2.06-.94-.94-2.06-.94 2.06-2.06.94z\"/><path d=\"M17.41 7.96l-1.37-1.37c-.4-.4-.92-.59-1.43-.59-.52 0-1.04.2-1.43.59L10.3 9.45l-7.72 7.72c-.78.78-.78 2.05 0 2.83L4 21.41c.39.39.9.59 1.41.59.51 0 1.02-.2 1.41-.59l7.78-7.78 2.81-2.81c.8-.78.8-2.07 0-2.86zM5.41 20L4 18.59l7.72-7.72 1.47 1.35L5.41 20z\"/>\n",
              "  </svg>\n",
              "      </button>\n",
              "      \n",
              "  <style>\n",
              "    .colab-df-container {\n",
              "      display:flex;\n",
              "      flex-wrap:wrap;\n",
              "      gap: 12px;\n",
              "    }\n",
              "\n",
              "    .colab-df-convert {\n",
              "      background-color: #E8F0FE;\n",
              "      border: none;\n",
              "      border-radius: 50%;\n",
              "      cursor: pointer;\n",
              "      display: none;\n",
              "      fill: #1967D2;\n",
              "      height: 32px;\n",
              "      padding: 0 0 0 0;\n",
              "      width: 32px;\n",
              "    }\n",
              "\n",
              "    .colab-df-convert:hover {\n",
              "      background-color: #E2EBFA;\n",
              "      box-shadow: 0px 1px 2px rgba(60, 64, 67, 0.3), 0px 1px 3px 1px rgba(60, 64, 67, 0.15);\n",
              "      fill: #174EA6;\n",
              "    }\n",
              "\n",
              "    [theme=dark] .colab-df-convert {\n",
              "      background-color: #3B4455;\n",
              "      fill: #D2E3FC;\n",
              "    }\n",
              "\n",
              "    [theme=dark] .colab-df-convert:hover {\n",
              "      background-color: #434B5C;\n",
              "      box-shadow: 0px 1px 3px 1px rgba(0, 0, 0, 0.15);\n",
              "      filter: drop-shadow(0px 1px 2px rgba(0, 0, 0, 0.3));\n",
              "      fill: #FFFFFF;\n",
              "    }\n",
              "  </style>\n",
              "\n",
              "      <script>\n",
              "        const buttonEl =\n",
              "          document.querySelector('#df-649b7483-3948-4d19-beae-9e2da16b2b41 button.colab-df-convert');\n",
              "        buttonEl.style.display =\n",
              "          google.colab.kernel.accessAllowed ? 'block' : 'none';\n",
              "\n",
              "        async function convertToInteractive(key) {\n",
              "          const element = document.querySelector('#df-649b7483-3948-4d19-beae-9e2da16b2b41');\n",
              "          const dataTable =\n",
              "            await google.colab.kernel.invokeFunction('convertToInteractive',\n",
              "                                                     [key], {});\n",
              "          if (!dataTable) return;\n",
              "\n",
              "          const docLinkHtml = 'Like what you see? Visit the ' +\n",
              "            '<a target=\"_blank\" href=https://colab.research.google.com/notebooks/data_table.ipynb>data table notebook</a>'\n",
              "            + ' to learn more about interactive tables.';\n",
              "          element.innerHTML = '';\n",
              "          dataTable['output_type'] = 'display_data';\n",
              "          await google.colab.output.renderOutput(dataTable, element);\n",
              "          const docLink = document.createElement('div');\n",
              "          docLink.innerHTML = docLinkHtml;\n",
              "          element.appendChild(docLink);\n",
              "        }\n",
              "      </script>\n",
              "    </div>\n",
              "  </div>\n",
              "  "
            ]
          },
          "metadata": {},
          "execution_count": 30
        }
      ]
    },
    {
      "cell_type": "markdown",
      "source": [
        "Age cannot be 0 so replacing age == 0 with np.nan"
      ],
      "metadata": {
        "id": "85-1BxQ36RUL"
      }
    },
    {
      "cell_type": "code",
      "source": [
        "data[\"age\"] = data[\"age\"].replace(0, np.nan)\n",
        "data[\"age\"] = data[\"age\"].fillna(data[\"age\"].median())"
      ],
      "metadata": {
        "id": "tPGXqGOS6SLK"
      },
      "execution_count": null,
      "outputs": []
    },
    {
      "cell_type": "markdown",
      "source": [
        "Checking for null values for XXL size"
      ],
      "metadata": {
        "id": "bFO34YA36Uqi"
      }
    },
    {
      "cell_type": "code",
      "source": [
        "data[data[\"size\"] == \"XXL\"].isnull().sum()"
      ],
      "metadata": {
        "colab": {
          "base_uri": "https://localhost:8080/"
        },
        "id": "_MFz1KeF6VNa",
        "outputId": "05b6fcbb-7835-4bc6-9ea0-21eb9d8f8422"
      },
      "execution_count": null,
      "outputs": [
        {
          "output_type": "execute_result",
          "data": {
            "text/plain": [
              "weight    0\n",
              "age       0\n",
              "height    0\n",
              "size      0\n",
              "dtype: int64"
            ]
          },
          "metadata": {},
          "execution_count": 32
        }
      ]
    },
    {
      "cell_type": "markdown",
      "source": [
        "Dropping Records with Null Values"
      ],
      "metadata": {
        "id": "XVs5fADk6Yj6"
      }
    },
    {
      "cell_type": "markdown",
      "source": [
        "Since we have a lot of data we can safely drop records with null values"
      ],
      "metadata": {
        "id": "RWkGGGxs6atx"
      }
    },
    {
      "cell_type": "code",
      "source": [
        "data.dropna(inplace=True)\n",
        "data.isnull().sum()"
      ],
      "metadata": {
        "colab": {
          "base_uri": "https://localhost:8080/"
        },
        "id": "0F0QOusD6bVC",
        "outputId": "793c44eb-23ed-4013-aa19-7322610f0506"
      },
      "execution_count": null,
      "outputs": [
        {
          "output_type": "execute_result",
          "data": {
            "text/plain": [
              "weight    0\n",
              "age       0\n",
              "height    0\n",
              "size      0\n",
              "dtype: int64"
            ]
          },
          "metadata": {},
          "execution_count": 33
        }
      ]
    },
    {
      "cell_type": "markdown",
      "source": [
        "Reseting the Index"
      ],
      "metadata": {
        "id": "RGSc3M_S6dp6"
      }
    },
    {
      "cell_type": "code",
      "source": [
        "data.reset_index(drop=True, inplace=True)"
      ],
      "metadata": {
        "id": "uCxDMQUD6eFD"
      },
      "execution_count": null,
      "outputs": []
    },
    {
      "cell_type": "markdown",
      "source": [
        "EDA"
      ],
      "metadata": {
        "id": "PDapvFDz6gX6"
      }
    },
    {
      "cell_type": "code",
      "source": [
        "fig, axes = plt.subplots(figsize=(20, 10), nrows=3, ncols=3)\n",
        "\n",
        "colors = [\"#5bde54\",\"#de5454\", \"#db53d5\"]\n",
        "\n",
        "# Histograms\n",
        "col_no = 0\n",
        "for col in data.columns[:-1]:\n",
        "    sns.histplot(x=col, data=data, ax=axes[0, col_no], bins=20, color=colors[col_no])\n",
        "    sns.kdeplot(x=col, data=data, ax=axes[1, col_no], color=colors[col_no])\n",
        "    sns.boxplot(x=col, data=data, ax=axes[2, col_no], color=colors[col_no])\n",
        "    col_no += 1"
      ],
      "metadata": {
        "colab": {
          "base_uri": "https://localhost:8080/",
          "height": 606
        },
        "id": "SKd6m7uY6g5D",
        "outputId": "5ebfa5e3-68a9-4ce3-8543-2fa9802f044c"
      },
      "execution_count": null,
      "outputs": [
        {
          "output_type": "display_data",
          "data": {
            "text/plain": [
              "<Figure size 1440x720 with 9 Axes>"
            ],
            "image/png": "[encoded data removed]"
          },
          "metadata": {}
        }
      ]
    },
    {
      "cell_type": "markdown",
      "source": [
        "As You can observe from Box Plot there are a lot of outliers\n",
        "Weight and Age of People is right skewed"
      ],
      "metadata": {
        "id": "2tA6XGvr6tJa"
      }
    },
    {
      "cell_type": "code",
      "source": [
        "data[\"size\"].value_counts()"
      ],
      "metadata": {
        "colab": {
          "base_uri": "https://localhost:8080/"
        },
        "id": "Nn2aTqXv6tvR",
        "outputId": "2cd58359-f8c3-45fe-d98c-1201fe8bf7e4"
      },
      "execution_count": null,
      "outputs": [
        {
          "output_type": "execute_result",
          "data": {
            "text/plain": [
              "M       29638\n",
              "S       21874\n",
              "XXXL    21303\n",
              "XL      19065\n",
              "L       17529\n",
              "XXS      9926\n",
              "XXL        69\n",
              "Name: size, dtype: int64"
            ]
          },
          "metadata": {},
          "execution_count": 41
        }
      ]
    },
    {
      "cell_type": "code",
      "source": [
        "labels = list(data[\"size\"].value_counts().index)\n",
        "\n",
        "plt.figure(figsize=(6, 8), dpi=80)\n",
        "plt.pie(data[\"size\"].value_counts(), autopct='%.1f%%', labels=labels)\n",
        "plt.title(\"Distribution of Size\")\n",
        "plt.show()"
      ],
      "metadata": {
        "colab": {
          "base_uri": "https://localhost:8080/",
          "height": 421
        },
        "id": "xIlLhFu_6wMs",
        "outputId": "a1899143-4618-4386-fd85-9b6498a2f617"
      },
      "execution_count": null,
      "outputs": [
        {
          "output_type": "display_data",
          "data": {
            "text/plain": [
              "<Figure size 480x640 with 1 Axes>"
            ],
            "image/png": "[encoded data removed]"
          },
          "metadata": {}
        }
      ]
    },
    {
      "cell_type": "code",
      "source": [
        "plt.figure(figsize=(8, 6), dpi=80)\n",
        "sns.heatmap(data.corr(), annot=True)\n",
        "plt.show()"
      ],
      "metadata": {
        "colab": {
          "base_uri": "https://localhost:8080/",
          "height": 417
        },
        "id": "0izoGWa86xtZ",
        "outputId": "14bee819-de77-41e0-e96d-478f9ac59a97"
      },
      "execution_count": null,
      "outputs": [
        {
          "output_type": "display_data",
          "data": {
            "text/plain": [
              "<Figure size 640x480 with 2 Axes>"
            ],
            "image/png": "[encoded data removed]"
          },
          "metadata": {}
        }
      ]
    },
    {
      "cell_type": "markdown",
      "source": [
        "Bining all Features"
      ],
      "metadata": {
        "id": "zYC0VlFX6zgc"
      }
    },
    {
      "cell_type": "code",
      "source": [
        "data[\"height_bins\"] = pd.qcut(data[\"height\"], q=6)\n",
        "data[\"weight_bins\"] = pd.qcut(data[\"weight\"], q=10)\n",
        "data[\"age_bins\"] = pd.qcut(data[\"age\"], q=10)\n",
        "\n",
        "data.drop([\"weight\", \"age\", \"height\"], axis=1, inplace=True)\n",
        "data"
      ],
      "metadata": {
        "colab": {
          "base_uri": "https://localhost:8080/",
          "height": 423
        },
        "id": "2keYAW9K6z8Z",
        "outputId": "e6904ba4-fad4-4108-ae1e-672ff7b1ee83"
      },
      "execution_count": null,
      "outputs": [
        {
          "output_type": "execute_result",
          "data": {
            "text/plain": [
              "       size        height_bins     weight_bins      age_bins\n",
              "0        XL   (167.64, 172.72]    (61.0, 63.0]  (26.0, 28.0]\n",
              "1         L    (165.1, 167.64]    (58.0, 61.0]  (34.0, 36.0]\n",
              "2         M    (162.56, 165.1]    (58.0, 61.0]  (32.0, 34.0]\n",
              "3         L   (172.72, 193.04]    (63.0, 65.0]  (26.0, 28.0]\n",
              "4         M   (167.64, 172.72]    (61.0, 63.0]  (39.0, 45.0]\n",
              "...     ...                ...             ...           ...\n",
              "119399    M   (172.72, 193.04]    (61.0, 63.0]  (39.0, 45.0]\n",
              "119400    S  (137.159, 160.02]  (21.999, 52.0]  (28.0, 30.0]\n",
              "119401    M   (167.64, 172.72]    (58.0, 61.0]  (30.0, 31.0]\n",
              "119402   XL    (165.1, 167.64]    (68.0, 74.0]  (30.0, 31.0]\n",
              "119403   XL    (165.1, 167.64]    (68.0, 74.0]  (28.0, 30.0]\n",
              "\n",
              "[119404 rows x 4 columns]"
            ],
            "text/html": [
              "\n",
              "  <div id=\"df-9a0122d7-a663-4e94-99c7-ebae2a6122c1\">\n",
              "    <div class=\"colab-df-container\">\n",
              "      <div>\n",
              "<style scoped>\n",
              "    .dataframe tbody tr th:only-of-type {\n",
              "        vertical-align: middle;\n",
              "    }\n",
              "\n",
              "    .dataframe tbody tr th {\n",
              "        vertical-align: top;\n",
              "    }\n",
              "\n",
              "    .dataframe thead th {\n",
              "        text-align: right;\n",
              "    }\n",
              "</style>\n",
              "<table border=\"1\" class=\"dataframe\">\n",
              "  <thead>\n",
              "    <tr style=\"text-align: right;\">\n",
              "      <th></th>\n",
              "      <th>size</th>\n",
              "      <th>height_bins</th>\n",
              "      <th>weight_bins</th>\n",
              "      <th>age_bins</th>\n",
              "    </tr>\n",
              "  </thead>\n",
              "  <tbody>\n",
              "    <tr>\n",
              "      <th>0</th>\n",
              "      <td>XL</td>\n",
              "      <td>(167.64, 172.72]</td>\n",
              "      <td>(61.0, 63.0]</td>\n",
              "      <td>(26.0, 28.0]</td>\n",
              "    </tr>\n",
              "    <tr>\n",
              "      <th>1</th>\n",
              "      <td>L</td>\n",
              "      <td>(165.1, 167.64]</td>\n",
              "      <td>(58.0, 61.0]</td>\n",
              "      <td>(34.0, 36.0]</td>\n",
              "    </tr>\n",
              "    <tr>\n",
              "      <th>2</th>\n",
              "      <td>M</td>\n",
              "      <td>(162.56, 165.1]</td>\n",
              "      <td>(58.0, 61.0]</td>\n",
              "      <td>(32.0, 34.0]</td>\n",
              "    </tr>\n",
              "    <tr>\n",
              "      <th>3</th>\n",
              "      <td>L</td>\n",
              "      <td>(172.72, 193.04]</td>\n",
              "      <td>(63.0, 65.0]</td>\n",
              "      <td>(26.0, 28.0]</td>\n",
              "    </tr>\n",
              "    <tr>\n",
              "      <th>4</th>\n",
              "      <td>M</td>\n",
              "      <td>(167.64, 172.72]</td>\n",
              "      <td>(61.0, 63.0]</td>\n",
              "      <td>(39.0, 45.0]</td>\n",
              "    </tr>\n",
              "    <tr>\n",
              "      <th>...</th>\n",
              "      <td>...</td>\n",
              "      <td>...</td>\n",
              "      <td>...</td>\n",
              "      <td>...</td>\n",
              "    </tr>\n",
              "    <tr>\n",
              "      <th>119399</th>\n",
              "      <td>M</td>\n",
              "      <td>(172.72, 193.04]</td>\n",
              "      <td>(61.0, 63.0]</td>\n",
              "      <td>(39.0, 45.0]</td>\n",
              "    </tr>\n",
              "    <tr>\n",
              "      <th>119400</th>\n",
              "      <td>S</td>\n",
              "      <td>(137.159, 160.02]</td>\n",
              "      <td>(21.999, 52.0]</td>\n",
              "      <td>(28.0, 30.0]</td>\n",
              "    </tr>\n",
              "    <tr>\n",
              "      <th>119401</th>\n",
              "      <td>M</td>\n",
              "      <td>(167.64, 172.72]</td>\n",
              "      <td>(58.0, 61.0]</td>\n",
              "      <td>(30.0, 31.0]</td>\n",
              "    </tr>\n",
              "    <tr>\n",
              "      <th>119402</th>\n",
              "      <td>XL</td>\n",
              "      <td>(165.1, 167.64]</td>\n",
              "      <td>(68.0, 74.0]</td>\n",
              "      <td>(30.0, 31.0]</td>\n",
              "    </tr>\n",
              "    <tr>\n",
              "      <th>119403</th>\n",
              "      <td>XL</td>\n",
              "      <td>(165.1, 167.64]</td>\n",
              "      <td>(68.0, 74.0]</td>\n",
              "      <td>(28.0, 30.0]</td>\n",
              "    </tr>\n",
              "  </tbody>\n",
              "</table>\n",
              "<p>119404 rows × 4 columns</p>\n",
              "</div>\n",
              "      <button class=\"colab-df-convert\" onclick=\"convertToInteractive('df-9a0122d7-a663-4e94-99c7-ebae2a6122c1')\"\n",
              "              title=\"Convert this dataframe to an interactive table.\"\n",
              "              style=\"display:none;\">\n",
              "        \n",
              "  <svg xmlns=\"http://www.w3.org/2000/svg\" height=\"24px\"viewBox=\"0 0 24 24\"\n",
              "       width=\"24px\">\n",
              "    <path d=\"M0 0h24v24H0V0z\" fill=\"none\"/>\n",
              "    <path d=\"M18.56 5.44l.94 2.06.94-2.06 2.06-.94-2.06-.94-.94-2.06-.94 2.06-2.06.94zm-11 1L8.5 8.5l.94-2.06 2.06-.94-2.06-.94L8.5 2.5l-.94 2.06-2.06.94zm10 10l.94 2.06.94-2.06 2.06-.94-2.06-.94-.94-2.06-.94 2.06-2.06.94z\"/><path d=\"M17.41 7.96l-1.37-1.37c-.4-.4-.92-.59-1.43-.59-.52 0-1.04.2-1.43.59L10.3 9.45l-7.72 7.72c-.78.78-.78 2.05 0 2.83L4 21.41c.39.39.9.59 1.41.59.51 0 1.02-.2 1.41-.59l7.78-7.78 2.81-2.81c.8-.78.8-2.07 0-2.86zM5.41 20L4 18.59l7.72-7.72 1.47 1.35L5.41 20z\"/>\n",
              "  </svg>\n",
              "      </button>\n",
              "      \n",
              "  <style>\n",
              "    .colab-df-container {\n",
              "      display:flex;\n",
              "      flex-wrap:wrap;\n",
              "      gap: 12px;\n",
              "    }\n",
              "\n",
              "    .colab-df-convert {\n",
              "      background-color: #E8F0FE;\n",
              "      border: none;\n",
              "      border-radius: 50%;\n",
              "      cursor: pointer;\n",
              "      display: none;\n",
              "      fill: #1967D2;\n",
              "      height: 32px;\n",
              "      padding: 0 0 0 0;\n",
              "      width: 32px;\n",
              "    }\n",
              "\n",
              "    .colab-df-convert:hover {\n",
              "      background-color: #E2EBFA;\n",
              "      box-shadow: 0px 1px 2px rgba(60, 64, 67, 0.3), 0px 1px 3px 1px rgba(60, 64, 67, 0.15);\n",
              "      fill: #174EA6;\n",
              "    }\n",
              "\n",
              "    [theme=dark] .colab-df-convert {\n",
              "      background-color: #3B4455;\n",
              "      fill: #D2E3FC;\n",
              "    }\n",
              "\n",
              "    [theme=dark] .colab-df-convert:hover {\n",
              "      background-color: #434B5C;\n",
              "      box-shadow: 0px 1px 3px 1px rgba(0, 0, 0, 0.15);\n",
              "      filter: drop-shadow(0px 1px 2px rgba(0, 0, 0, 0.3));\n",
              "      fill: #FFFFFF;\n",
              "    }\n",
              "  </style>\n",
              "\n",
              "      <script>\n",
              "        const buttonEl =\n",
              "          document.querySelector('#df-9a0122d7-a663-4e94-99c7-ebae2a6122c1 button.colab-df-convert');\n",
              "        buttonEl.style.display =\n",
              "          google.colab.kernel.accessAllowed ? 'block' : 'none';\n",
              "\n",
              "        async function convertToInteractive(key) {\n",
              "          const element = document.querySelector('#df-9a0122d7-a663-4e94-99c7-ebae2a6122c1');\n",
              "          const dataTable =\n",
              "            await google.colab.kernel.invokeFunction('convertToInteractive',\n",
              "                                                     [key], {});\n",
              "          if (!dataTable) return;\n",
              "\n",
              "          const docLinkHtml = 'Like what you see? Visit the ' +\n",
              "            '<a target=\"_blank\" href=https://colab.research.google.com/notebooks/data_table.ipynb>data table notebook</a>'\n",
              "            + ' to learn more about interactive tables.';\n",
              "          element.innerHTML = '';\n",
              "          dataTable['output_type'] = 'display_data';\n",
              "          await google.colab.output.renderOutput(dataTable, element);\n",
              "          const docLink = document.createElement('div');\n",
              "          docLink.innerHTML = docLinkHtml;\n",
              "          element.appendChild(docLink);\n",
              "        }\n",
              "      </script>\n",
              "    </div>\n",
              "  </div>\n",
              "  "
            ]
          },
          "metadata": {},
          "execution_count": 39
        }
      ]
    },
    {
      "cell_type": "markdown",
      "source": [
        "Preparing Data"
      ],
      "metadata": {
        "id": "gjhG0Q5v62db"
      }
    },
    {
      "cell_type": "markdown",
      "source": [
        "Stratified Train Test Split"
      ],
      "metadata": {
        "id": "zCVj7DJa63K6"
      }
    },
    {
      "cell_type": "markdown",
      "source": [
        "Evenly Spreading the Dependent Variable \"size\" in train and test set"
      ],
      "metadata": {
        "id": "QvYNWtpy64hh"
      }
    },
    {
      "cell_type": "code",
      "source": [
        "split = StratifiedShuffleSplit(n_splits=1, test_size=0.2, random_state=42)\n",
        "for train_index, test_index in split.split(data, data['size']):\n",
        "    train = data.loc[train_index]\n",
        "    test = data.loc[test_index]"
      ],
      "metadata": {
        "id": "BB9nUOXL66dK"
      },
      "execution_count": null,
      "outputs": []
    },
    {
      "cell_type": "code",
      "source": [
        "train.shape, test.shape"
      ],
      "metadata": {
        "colab": {
          "base_uri": "https://localhost:8080/"
        },
        "id": "bM1FRbgq68zx",
        "outputId": "343bfaf0-6c2f-4d0a-bc2b-6d64822038ef"
      },
      "execution_count": null,
      "outputs": [
        {
          "output_type": "execute_result",
          "data": {
            "text/plain": [
              "((95523, 4), (23881, 4))"
            ]
          },
          "metadata": {},
          "execution_count": 18
        }
      ]
    },
    {
      "cell_type": "code",
      "source": [
        "X_train = train.drop(\"size\", axis=1)\n",
        "y_train = train[\"size\"]\n",
        "\n",
        "X_test = test.drop(\"size\", axis=1)\n",
        "y_test = test[\"size\"]"
      ],
      "metadata": {
        "id": "qmsdLL0C6-Rp"
      },
      "execution_count": null,
      "outputs": []
    },
    {
      "cell_type": "markdown",
      "source": [
        "OneHotEncoding"
      ],
      "metadata": {
        "id": "GN4ZhMQM7CdT"
      }
    },
    {
      "cell_type": "code",
      "source": [
        "X_train = pd.get_dummies(X_train).values\n",
        "X_test = pd.get_dummies(X_test).values"
      ],
      "metadata": {
        "id": "6KhFBXQC7Cz6"
      },
      "execution_count": null,
      "outputs": []
    },
    {
      "cell_type": "markdown",
      "source": [
        "Machine Learning - Multiple Model Testing"
      ],
      "metadata": {
        "id": "3TpbVvpa7Fti"
      }
    },
    {
      "cell_type": "markdown",
      "source": [
        "Dataframe to store all the accuracy scores for Comparison and Analysis"
      ],
      "metadata": {
        "id": "DD_hcDTA7HFX"
      }
    },
    {
      "cell_type": "code",
      "source": [
        "MLA_compare = pd.DataFrame()\n",
        "\n",
        "def MLA_testing(MLA, X_train, X_test):\n",
        "    row_index = 0\n",
        "    for classifier in MLA:\n",
        "        # Training The Model\n",
        "        classifier.fit(X_train, y_train)\n",
        "\n",
        "        # KFold Accuracies on Training Data\n",
        "        kfold_accuracy = cross_val_score(estimator = classifier, X = X_train, y = y_train, cv = 10, n_jobs=-1)\n",
        "        \n",
        "        # Prediction on Testing Data\n",
        "        y_pred = cross_val_predict(estimator = classifier, X = X_test, y = y_test, cv = 10, n_jobs=-1)\n",
        "        \n",
        "        # Accuracy for y_test and y_pred\n",
        "        classifier_accuracy_score = accuracy_score(y_test, y_pred)\n",
        "\n",
        "        # Saving Data in Dataframe\n",
        "        MLA_name = classifier.__class__.__name__\n",
        "        MLA_compare.loc[row_index, 'MLA Name'] = MLA_name\n",
        "        MLA_compare.loc[row_index, 'Accuracy Score'] = classifier_accuracy_score*100\n",
        "        MLA_compare.loc[row_index, 'K-Fold Accuracy'] = kfold_accuracy.mean()*100\n",
        "\n",
        "        print(MLA_name, \"Done\")\n",
        "        row_index+=1"
      ],
      "metadata": {
        "id": "VXIMWza_7Hbr"
      },
      "execution_count": null,
      "outputs": []
    },
    {
      "cell_type": "code",
      "source": [
        "MLA = [\n",
        "    #Ensemble Methods\n",
        "    ensemble.AdaBoostClassifier(),\n",
        "    ensemble.RandomForestClassifier(n_jobs=-1),\n",
        "    \n",
        "    #GLM\n",
        "    linear_model.RidgeClassifierCV(),\n",
        "    linear_model.SGDClassifier(n_jobs=-1),\n",
        "\n",
        "    \n",
        "    #Nearest Neighbor\n",
        "    neighbors.KNeighborsClassifier(),\n",
        "    \n",
        "    #Trees    \n",
        "    tree.DecisionTreeClassifier(),\n",
        "    tree.ExtraTreeClassifier(),\n",
        "]\n",
        "\n",
        "MLA_testing(MLA=MLA, X_train=X_train, X_test=X_test)"
      ],
      "metadata": {
        "colab": {
          "base_uri": "https://localhost:8080/"
        },
        "id": "BaKeWXHF7KQw",
        "outputId": "1d711b5f-ec1a-4f7f-df79-90ee285315ce"
      },
      "execution_count": null,
      "outputs": [
        {
          "output_type": "stream",
          "name": "stdout",
          "text": [
            "AdaBoostClassifier Done\n",
            "RandomForestClassifier Done\n",
            "RidgeClassifierCV Done\n",
            "SGDClassifier Done\n",
            "KNeighborsClassifier Done\n",
            "DecisionTreeClassifier Done\n",
            "ExtraTreeClassifier Done\n"
          ]
        }
      ]
    },
    {
      "cell_type": "markdown",
      "source": [
        "Comparing Models"
      ],
      "metadata": {
        "id": "dgbsf3VV-gCa"
      }
    },
    {
      "cell_type": "code",
      "source": [
        "MLA_compare = MLA_compare.sort_values(by=\"Accuracy Score\", ascending=False).reset_index(drop=True)\n",
        "MLA_compare"
      ],
      "metadata": {
        "colab": {
          "base_uri": "https://localhost:8080/",
          "height": 269
        },
        "id": "96bUhULR-gZ3",
        "outputId": "2e2b9d24-1173-4c72-8b89-9b1b34aa95b0"
      },
      "execution_count": null,
      "outputs": [
        {
          "output_type": "execute_result",
          "data": {
            "text/plain": [
              "                 MLA Name  Accuracy Score  K-Fold Accuracy\n",
              "0  RandomForestClassifier       48.837988        50.184777\n",
              "1  DecisionTreeClassifier       48.825426        50.166978\n",
              "2     ExtraTreeClassifier       48.821239        50.166978\n",
              "3       RidgeClassifierCV       48.787739        48.458472\n",
              "4           SGDClassifier       45.994724        46.619140\n",
              "5    KNeighborsClassifier       44.076881        44.597665\n",
              "6      AdaBoostClassifier       40.123948        46.701841"
            ],
            "text/html": [
              "\n",
              "  <div id=\"df-1676ca1b-f25b-4e96-9295-73510937937c\">\n",
              "    <div class=\"colab-df-container\">\n",
              "      <div>\n",
              "<style scoped>\n",
              "    .dataframe tbody tr th:only-of-type {\n",
              "        vertical-align: middle;\n",
              "    }\n",
              "\n",
              "    .dataframe tbody tr th {\n",
              "        vertical-align: top;\n",
              "    }\n",
              "\n",
              "    .dataframe thead th {\n",
              "        text-align: right;\n",
              "    }\n",
              "</style>\n",
              "<table border=\"1\" class=\"dataframe\">\n",
              "  <thead>\n",
              "    <tr style=\"text-align: right;\">\n",
              "      <th></th>\n",
              "      <th>MLA Name</th>\n",
              "      <th>Accuracy Score</th>\n",
              "      <th>K-Fold Accuracy</th>\n",
              "    </tr>\n",
              "  </thead>\n",
              "  <tbody>\n",
              "    <tr>\n",
              "      <th>0</th>\n",
              "      <td>RandomForestClassifier</td>\n",
              "      <td>48.837988</td>\n",
              "      <td>50.184777</td>\n",
              "    </tr>\n",
              "    <tr>\n",
              "      <th>1</th>\n",
              "      <td>DecisionTreeClassifier</td>\n",
              "      <td>48.825426</td>\n",
              "      <td>50.166978</td>\n",
              "    </tr>\n",
              "    <tr>\n",
              "      <th>2</th>\n",
              "      <td>ExtraTreeClassifier</td>\n",
              "      <td>48.821239</td>\n",
              "      <td>50.166978</td>\n",
              "    </tr>\n",
              "    <tr>\n",
              "      <th>3</th>\n",
              "      <td>RidgeClassifierCV</td>\n",
              "      <td>48.787739</td>\n",
              "      <td>48.458472</td>\n",
              "    </tr>\n",
              "    <tr>\n",
              "      <th>4</th>\n",
              "      <td>SGDClassifier</td>\n",
              "      <td>45.994724</td>\n",
              "      <td>46.619140</td>\n",
              "    </tr>\n",
              "    <tr>\n",
              "      <th>5</th>\n",
              "      <td>KNeighborsClassifier</td>\n",
              "      <td>44.076881</td>\n",
              "      <td>44.597665</td>\n",
              "    </tr>\n",
              "    <tr>\n",
              "      <th>6</th>\n",
              "      <td>AdaBoostClassifier</td>\n",
              "      <td>40.123948</td>\n",
              "      <td>46.701841</td>\n",
              "    </tr>\n",
              "  </tbody>\n",
              "</table>\n",
              "</div>\n",
              "      <button class=\"colab-df-convert\" onclick=\"convertToInteractive('df-1676ca1b-f25b-4e96-9295-73510937937c')\"\n",
              "              title=\"Convert this dataframe to an interactive table.\"\n",
              "              style=\"display:none;\">\n",
              "        \n",
              "  <svg xmlns=\"http://www.w3.org/2000/svg\" height=\"24px\"viewBox=\"0 0 24 24\"\n",
              "       width=\"24px\">\n",
              "    <path d=\"M0 0h24v24H0V0z\" fill=\"none\"/>\n",
              "    <path d=\"M18.56 5.44l.94 2.06.94-2.06 2.06-.94-2.06-.94-.94-2.06-.94 2.06-2.06.94zm-11 1L8.5 8.5l.94-2.06 2.06-.94-2.06-.94L8.5 2.5l-.94 2.06-2.06.94zm10 10l.94 2.06.94-2.06 2.06-.94-2.06-.94-.94-2.06-.94 2.06-2.06.94z\"/><path d=\"M17.41 7.96l-1.37-1.37c-.4-.4-.92-.59-1.43-.59-.52 0-1.04.2-1.43.59L10.3 9.45l-7.72 7.72c-.78.78-.78 2.05 0 2.83L4 21.41c.39.39.9.59 1.41.59.51 0 1.02-.2 1.41-.59l7.78-7.78 2.81-2.81c.8-.78.8-2.07 0-2.86zM5.41 20L4 18.59l7.72-7.72 1.47 1.35L5.41 20z\"/>\n",
              "  </svg>\n",
              "      </button>\n",
              "      \n",
              "  <style>\n",
              "    .colab-df-container {\n",
              "      display:flex;\n",
              "      flex-wrap:wrap;\n",
              "      gap: 12px;\n",
              "    }\n",
              "\n",
              "    .colab-df-convert {\n",
              "      background-color: #E8F0FE;\n",
              "      border: none;\n",
              "      border-radius: 50%;\n",
              "      cursor: pointer;\n",
              "      display: none;\n",
              "      fill: #1967D2;\n",
              "      height: 32px;\n",
              "      padding: 0 0 0 0;\n",
              "      width: 32px;\n",
              "    }\n",
              "\n",
              "    .colab-df-convert:hover {\n",
              "      background-color: #E2EBFA;\n",
              "      box-shadow: 0px 1px 2px rgba(60, 64, 67, 0.3), 0px 1px 3px 1px rgba(60, 64, 67, 0.15);\n",
              "      fill: #174EA6;\n",
              "    }\n",
              "\n",
              "    [theme=dark] .colab-df-convert {\n",
              "      background-color: #3B4455;\n",
              "      fill: #D2E3FC;\n",
              "    }\n",
              "\n",
              "    [theme=dark] .colab-df-convert:hover {\n",
              "      background-color: #434B5C;\n",
              "      box-shadow: 0px 1px 3px 1px rgba(0, 0, 0, 0.15);\n",
              "      filter: drop-shadow(0px 1px 2px rgba(0, 0, 0, 0.3));\n",
              "      fill: #FFFFFF;\n",
              "    }\n",
              "  </style>\n",
              "\n",
              "      <script>\n",
              "        const buttonEl =\n",
              "          document.querySelector('#df-1676ca1b-f25b-4e96-9295-73510937937c button.colab-df-convert');\n",
              "        buttonEl.style.display =\n",
              "          google.colab.kernel.accessAllowed ? 'block' : 'none';\n",
              "\n",
              "        async function convertToInteractive(key) {\n",
              "          const element = document.querySelector('#df-1676ca1b-f25b-4e96-9295-73510937937c');\n",
              "          const dataTable =\n",
              "            await google.colab.kernel.invokeFunction('convertToInteractive',\n",
              "                                                     [key], {});\n",
              "          if (!dataTable) return;\n",
              "\n",
              "          const docLinkHtml = 'Like what you see? Visit the ' +\n",
              "            '<a target=\"_blank\" href=https://colab.research.google.com/notebooks/data_table.ipynb>data table notebook</a>'\n",
              "            + ' to learn more about interactive tables.';\n",
              "          element.innerHTML = '';\n",
              "          dataTable['output_type'] = 'display_data';\n",
              "          await google.colab.output.renderOutput(dataTable, element);\n",
              "          const docLink = document.createElement('div');\n",
              "          docLink.innerHTML = docLinkHtml;\n",
              "          element.appendChild(docLink);\n",
              "        }\n",
              "      </script>\n",
              "    </div>\n",
              "  </div>\n",
              "  "
            ]
          },
          "metadata": {},
          "execution_count": 25
        }
      ]
    },
    {
      "cell_type": "markdown",
      "source": [
        "Using DecisionTreeClassifier"
      ],
      "metadata": {
        "id": "XHPPckzC-jbf"
      }
    },
    {
      "cell_type": "code",
      "source": [
        "xgb_clf = tree.DecisionTreeClassifier()\n",
        "\n",
        "# Training the XGBClassifier\n",
        "xgb_clf.fit(X_train, y_train)\n",
        "\n",
        "# KFold Accuracy Score\n",
        "kfold_accuraies = cross_val_score(xgb_clf, X_train, y_train, cv=10, n_jobs=-1)\n",
        "print(\"KFold Accuracies:\", kfold_accuraies)\n",
        "print(\"Mean KFold Accuracy:\", kfold_accuraies.mean())\n",
        "\n",
        "# Predicting Size for Testing Data\n",
        "y_pred = cross_val_predict(xgb_clf, X_test, y_test, cv=10, n_jobs=-1)\n",
        "print(y_pred)\n",
        "\n",
        "# Accuracy Score\n",
        "print(\"Accuracy Score:\", accuracy_score(y_test, y_pred))\n",
        "\n",
        "# Confusion Matrix\n",
        "plt.figure(figsize=(12, 8), dpi=80)\n",
        "sns.heatmap(confusion_matrix(y_test, y_pred), annot=True, fmt=\"d\")\n",
        "plt.show()"
      ],
      "metadata": {
        "colab": {
          "base_uri": "https://localhost:8080/",
          "height": 620
        },
        "id": "CWZlwWC4-j16",
        "outputId": "abe2ea4c-16d5-4cd4-c5dc-0dbe8a479b31"
      },
      "execution_count": null,
      "outputs": [
        {
          "output_type": "stream",
          "name": "stdout",
          "text": [
            "KFold Accuracies: [0.50078509 0.5077986  0.49429499 0.50659548 0.50052345 0.50062814\n",
            " 0.50293132 0.4968593  0.50366415 0.50261725]\n",
            "Mean KFold Accuracy: 0.5016697772332825\n",
            "['M' 'M' 'M' ... 'S' 'XXXL' 'XXXL']\n",
            "Accuracy Score: 0.4882542607093505\n"
          ]
        },
        {
          "output_type": "display_data",
          "data": {
            "text/plain": [
              "<Figure size 960x640 with 2 Axes>"
            ],
            "image/png": "[encoded data removed]"
          },
          "metadata": {}
        }
      ]
    }
  ]
}